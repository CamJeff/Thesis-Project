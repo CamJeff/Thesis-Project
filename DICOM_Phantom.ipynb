{
  "nbformat": 4,
  "nbformat_minor": 0,
  "metadata": {
    "colab": {
      "provenance": []
    },
    "kernelspec": {
      "name": "python3",
      "display_name": "Python 3"
    },
    "language_info": {
      "name": "python"
    }
  },
  "cells": [
    {
      "cell_type": "code",
      "execution_count": 1,
      "metadata": {
        "colab": {
          "base_uri": "https://localhost:8080/"
        },
        "id": "rshm2ooa8Vei",
        "outputId": "2a962b8f-320f-4048-98f7-483156a01f01"
      },
      "outputs": [
        {
          "output_type": "stream",
          "name": "stdout",
          "text": [
            "Collecting SimpleITK\n",
            "  Downloading simpleitk-2.5.2-cp311-abi3-manylinux2014_x86_64.manylinux_2_17_x86_64.whl.metadata (7.2 kB)\n",
            "Downloading simpleitk-2.5.2-cp311-abi3-manylinux2014_x86_64.manylinux_2_17_x86_64.whl (52.6 MB)\n",
            "\u001b[2K   \u001b[90m━━━━━━━━━━━━━━━━━━━━━━━━━━━━━━━━━━━━━━━━\u001b[0m \u001b[32m52.6/52.6 MB\u001b[0m \u001b[31m23.3 MB/s\u001b[0m eta \u001b[36m0:00:00\u001b[0m\n",
            "\u001b[?25hInstalling collected packages: SimpleITK\n",
            "Successfully installed SimpleITK-2.5.2\n"
          ]
        }
      ],
      "source": [
        "!pip install SimpleITK"
      ]
    },
    {
      "cell_type": "code",
      "source": [
        "!pip install pydicom"
      ],
      "metadata": {
        "colab": {
          "base_uri": "https://localhost:8080/"
        },
        "id": "INVoGgCR8k9q",
        "outputId": "49962d50-7c7f-4457-c25c-7d785c9162b2"
      },
      "execution_count": 2,
      "outputs": [
        {
          "output_type": "stream",
          "name": "stdout",
          "text": [
            "Collecting pydicom\n",
            "  Downloading pydicom-3.0.1-py3-none-any.whl.metadata (9.4 kB)\n",
            "Downloading pydicom-3.0.1-py3-none-any.whl (2.4 MB)\n",
            "\u001b[2K   \u001b[90m━━━━━━━━━━━━━━━━━━━━━━━━━━━━━━━━━━━━━━━━\u001b[0m \u001b[32m2.4/2.4 MB\u001b[0m \u001b[31m20.7 MB/s\u001b[0m eta \u001b[36m0:00:00\u001b[0m\n",
            "\u001b[?25hInstalling collected packages: pydicom\n",
            "Successfully installed pydicom-3.0.1\n"
          ]
        }
      ]
    },
    {
      "cell_type": "code",
      "source": [
        "from matplotlib import pyplot as plt\n",
        "import os\n",
        "os.makedirs(\"phantom_dicom\", exist_ok=True)\n",
        "\n",
        "import numpy as np\n",
        "import SimpleITK as sitk\n",
        "\n",
        "# Volume dimensions (in voxels)\n",
        "size = (128, 128, 128)\n",
        "phantom = np.zeros(size, dtype=np.int16)\n",
        "\n",
        "# Coordinates\n",
        "x = np.arange(size[0]) - size[0]//2\n",
        "y = np.arange(size[1]) - size[1]//2\n",
        "z = np.arange(size[2]) - size[2]//2\n",
        "X, Y, Z = np.meshgrid(x, y, z, indexing=\"ij\")\n",
        "\n",
        "# Head: large sphere\n",
        "R_head = 50\n",
        "mask_head = X**2 + Y**2 + Z**2 <= R_head**2\n",
        "phantom[mask_head] = 100\n",
        "\n",
        "# Parotid glands: smaller spheres inside\n",
        "R_gland = 15\n",
        "mask_left = (X+25)**2 + (Y)**2 + (Z)**2 <= R_gland**2\n",
        "mask_right = (X-25)**2 + (Y)**2 + (Z)**2 <= R_gland**2\n",
        "phantom[mask_left] = 200\n",
        "phantom[mask_right] = 200\n",
        "\n",
        "# Convert to SimpleITK image\n",
        "image = sitk.GetImageFromArray(phantom)\n",
        "image.SetSpacing([1.0, 1.0, 1.0])  # mm voxel spacing\n",
        "image.SetOrigin([0.0, 0.0, 0.0])\n",
        "print(phantom[128//2])\n",
        "plt.imshow(phantom[50], cmap = plt.cm.gray)\n",
        "plt.show()\n"
      ],
      "metadata": {
        "colab": {
          "base_uri": "https://localhost:8080/",
          "height": 559
        },
        "id": "meD-WOzm8o7n",
        "outputId": "83d2a168-bebf-4b8e-8eed-463745f5918b"
      },
      "execution_count": 3,
      "outputs": [
        {
          "output_type": "stream",
          "name": "stdout",
          "text": [
            "[[0 0 0 ... 0 0 0]\n",
            " [0 0 0 ... 0 0 0]\n",
            " [0 0 0 ... 0 0 0]\n",
            " ...\n",
            " [0 0 0 ... 0 0 0]\n",
            " [0 0 0 ... 0 0 0]\n",
            " [0 0 0 ... 0 0 0]]\n"
          ]
        },
        {
          "output_type": "display_data",
          "data": {
            "text/plain": [
              "<Figure size 640x480 with 1 Axes>"
            ],
            "image/png": "[encoded data removed]"
          },
          "metadata": {}
        }
      ]
    },
    {
      "cell_type": "code",
      "source": [
        "import time\n",
        "import sys\n",
        "import os\n",
        "import string, random  # <-- added for random PatientID generation\n",
        "from pydicom.uid import generate_uid\n",
        "\n",
        "def save_dcm(data_directory, path_to_save, image_3D):\n",
        "\n",
        "   # if not series_IDs:\n",
        "      #  print('ERROR: given directory \"'+ data_directory+ '\" does not contain a DICOM series.')\n",
        "       # sys.exit(1)\n",
        "\n",
        "    series_IDs = sitk.ImageSeriesReader.GetGDCMSeriesIDs(data_directory)\n",
        "    series_file_names = sitk.ImageSeriesReader.GetGDCMSeriesFileNames(data_directory,series_IDs[0])\n",
        "    #image_0 = generate_sitk_image(data_directory)\n",
        "    series_reader = sitk.ImageSeriesReader()\n",
        "    series_reader.SetFileNames(series_file_names)\n",
        "    series_reader.MetaDataDictionaryArrayUpdateOn()\n",
        "    series_reader.LoadPrivateTagsOn()\n",
        "    image3D = series_reader.Execute()\n",
        "\n",
        "    image_3D = sitk.GetImageFromArray(phantom)\n",
        "\n",
        "    #writer.KeepOriginalImageUIDOn()\n",
        "\n",
        "    filtered_image = image_3D\n",
        "\n",
        "    tags_to_copy = [\n",
        "        \"0010|0020\",  # Patient ID\n",
        "        \"0020|000D\",  # Study Instance UID, for machine consumption\n",
        "        \"0020|0010\",  # Study ID, for human consumption\n",
        "        \"0008|0020\",  # Study Date\n",
        "        \"0008|0030\",  # Study Time\n",
        "        \"0008|0050\",  # Accession Number\n",
        "    ]\n",
        "\n",
        "    writer = sitk.ImageFileWriter()\n",
        "# Use the study/series/frame of reference information given in the meta-data\n",
        "# dictionary and not the automatically generated information from the file IO\n",
        "    writer.KeepOriginalImageUIDOn()\n",
        "    modification_time = time.strftime(\"%H%M%S\")\n",
        "    modification_date = time.strftime(\"%Y%m%d\")\n",
        "\n",
        "    direction = (1.0, 0.0, 0.0, 0.0, 1.0, 0.0, 0.0, 0.0, 1.0)\n",
        "\n",
        "    # --- NEW: generate a fresh random PatientID (25-char alphanumeric) ---\n",
        "    patient_id_random = ''.join(random.choices(string.ascii_uppercase + string.digits, k=25))\n",
        "\n",
        "    series_tag_values = [\n",
        "        (k, series_reader.GetMetaData(0, k.lower()))\n",
        "        for k in tags_to_copy\n",
        "        #if series_reader.HasMetaDataKey(0, k.lower())\n",
        "    ] +  [\n",
        "    (\"0008|0060\", \"CT\"),      # Modality\n",
        "    (\"0020|000e\", \"1.2.826.0.1.3680043.2.1125\"),  # Series Instance UID\n",
        "    (\"0020|0011\", \"1\"),       # Series Number\n",
        "    (\"0010|0010\", \"RESEARCH^PGphantom_CAMERON\"),  # Patient Name\n",
        "    (\"0020|0052\", '1.2.246.352.221.481990233581288636811206390483333082809') # Frame of Reference UID\n",
        "] + [\n",
        "        (\"0008|0031\", modification_time),  # Series Time\n",
        "        (\"0008|0021\", modification_date),  # Series Date\n",
        "        (\"0008|0008\", \"DERIVED\\\\SECONDARY\"),  # Image Type\n",
        "        (\"0020|000e\",\"1.2.826.0.1.3680043.2.1125.\" + modification_date + \".1\" + modification_time,),\n",
        "    # Series Instance UID\n",
        "    (\"0020|0037\",\"\\\\\".join(map(str,(direction[0],direction[3],direction[6],direction[1],direction[4],direction[7],\n",
        "),  # Image Orientation (Patient)\n",
        "            )\n",
        "        ),\n",
        "    ),\n",
        "    (\n",
        "        \"0008|103e\",\n",
        "        series_reader.GetMetaData(0, \"0008|103e\")\n",
        "        if series_reader.HasMetaDataKey(0, \"0008|103e\")\n",
        "        else \"\" + \" Processed-SimpleITK\",\n",
        "    ),\n",
        "    # --- NEW: override/set Patient ID with our random 25-char string ---\n",
        "    (\"0010|0020\", patient_id_random),  # Patient ID\n",
        "]\n",
        "\n",
        "    number_digits = len(str(filtered_image.GetDepth()))\n",
        "    for i in range(filtered_image.GetDepth()):\n",
        "        digits = len(str(i))\n",
        "        number_zeros = number_digits - digits\n",
        "\n",
        "        image_slice = filtered_image[:, :, i]\n",
        "        # Tags shared by the series.\n",
        "        for tag, value in series_tag_values:\n",
        "            image_slice.SetMetaData(tag, value)\n",
        "        # Slice specific tags.\n",
        "        #   Instance Creation Date\n",
        "        image_slice.SetMetaData(\"0008|0012\", time.strftime(\"%Y%m%d\"))\n",
        "        #   Instance Creation Time\n",
        "        image_slice.SetMetaData(\"0008|0013\", time.strftime(\"%H%M%S\"))\n",
        "        #   Image Position (Patient)\n",
        "        image_slice.SetMetaData(\n",
        "            \"0020|0032\",\n",
        "            \"\\\\\".join(map(str, filtered_image.TransformIndexToPhysicalPoint((0, 0, i)))),\n",
        "        )\n",
        "        #   Instance Number\n",
        "        new_UID = generate_uid()\n",
        "        image_slice.SetMetaData(\"0020|0013\", str(i))\n",
        "        image_slice.SetMetaData(\"0008|0018\", new_UID)\n",
        "        # Write to the output directory and add the extension dcm, to force writing\n",
        "        # in DICOM format.\n",
        "\n",
        "        print(new_UID)\n",
        "        writer.SetFileName(os.path.join(path_to_save, \"CT\"+'.'+new_UID+\".dcm\"))\n",
        "        writer.Execute(image_slice)\n",
        "    print('===============================================')\n",
        "    print(\"         DCM file saved into \",path_to_save)\n",
        "    print('===============================================')"
      ],
      "metadata": {
        "id": "6opT8l2b8tC6"
      },
      "execution_count": 4,
      "outputs": []
    },
    {
      "cell_type": "code",
      "source": [
        "save_dcm(\"/content/TPS\", \"/content/phantom_try7\", phantom)"
      ],
      "metadata": {
        "colab": {
          "base_uri": "https://localhost:8080/"
        },
        "id": "JVJhADPT-crp",
        "outputId": "5eba7251-7684-4314-db91-e9bd54e2b2f2"
      },
      "execution_count": 6,
      "outputs": [
        {
          "output_type": "stream",
          "name": "stdout",
          "text": [
            "1.2.826.0.1.3680043.8.498.47411255056415438337283827148286661403\n",
            "1.2.826.0.1.3680043.8.498.38858966940183982190653742442926208620\n",
            "1.2.826.0.1.3680043.8.498.10547239255283030567255377299822951464\n",
            "1.2.826.0.1.3680043.8.498.50941030233114884294954445079659304519\n",
            "1.2.826.0.1.3680043.8.498.90909462975703997214422863796201415984\n",
            "1.2.826.0.1.3680043.8.498.27092568808356605352599268189880228023\n",
            "1.2.826.0.1.3680043.8.498.11850710159337546777040371366027900009\n",
            "1.2.826.0.1.3680043.8.498.71985081723002925444341861458895283354\n",
            "1.2.826.0.1.3680043.8.498.22455756211755277279619931169887695361\n",
            "1.2.826.0.1.3680043.8.498.72977753173009161056266591664907521507\n",
            "1.2.826.0.1.3680043.8.498.74559141974442887760855830762038074941\n",
            "1.2.826.0.1.3680043.8.498.53929234031142748551297226936187132071\n",
            "1.2.826.0.1.3680043.8.498.27166453985463349044695176352199515267\n",
            "1.2.826.0.1.3680043.8.498.72433812413867031667822449537960517135\n",
            "1.2.826.0.1.3680043.8.498.54760858272461065821704806186513917881\n",
            "1.2.826.0.1.3680043.8.498.86071676342712679261110126502126230033\n",
            "1.2.826.0.1.3680043.8.498.14944788874409644288458275938351519543\n",
            "1.2.826.0.1.3680043.8.498.61529698515947222714997647326482454795\n",
            "1.2.826.0.1.3680043.8.498.19011992173490201469643660706253586140\n",
            "1.2.826.0.1.3680043.8.498.32105242445263264518818723485148625910\n",
            "1.2.826.0.1.3680043.8.498.66697058955324557031701632785030280584\n",
            "1.2.826.0.1.3680043.8.498.65583075111196595836466658107268996432\n",
            "1.2.826.0.1.3680043.8.498.94741981278979475503571372928793347896\n",
            "1.2.826.0.1.3680043.8.498.55872775253283509475931954411344958411\n",
            "1.2.826.0.1.3680043.8.498.89511284637428160115631594455501996401\n",
            "1.2.826.0.1.3680043.8.498.17437582559412090996644329793646610932\n",
            "1.2.826.0.1.3680043.8.498.20463686083423666590623546542522933841\n",
            "1.2.826.0.1.3680043.8.498.64896337912925050833248293911436916799\n",
            "1.2.826.0.1.3680043.8.498.48372461572326429549680421542790008163\n",
            "1.2.826.0.1.3680043.8.498.10582223555392918041432950676674674598\n",
            "1.2.826.0.1.3680043.8.498.75767679827430168064640142534301942866\n",
            "1.2.826.0.1.3680043.8.498.10770637071444733767928901058633866591\n",
            "1.2.826.0.1.3680043.8.498.44002494230683499207921957400811096986\n",
            "1.2.826.0.1.3680043.8.498.57498187368837443409889381163296144570\n",
            "1.2.826.0.1.3680043.8.498.51367010787882136684836409053131392270\n",
            "1.2.826.0.1.3680043.8.498.21252078441427495242600675615190708078\n",
            "1.2.826.0.1.3680043.8.498.24391939003143986867177542811443454712\n",
            "1.2.826.0.1.3680043.8.498.10968291982372348969953609578698390875\n",
            "1.2.826.0.1.3680043.8.498.91600786329926405164013685550176096871\n",
            "1.2.826.0.1.3680043.8.498.98839195094717332392879129538429955125\n",
            "1.2.826.0.1.3680043.8.498.22918090580134208324782206009188275493\n",
            "1.2.826.0.1.3680043.8.498.23730154487674481097277644643320228755\n",
            "1.2.826.0.1.3680043.8.498.84557805670693678586652602567770857357\n",
            "1.2.826.0.1.3680043.8.498.24493278432675424677385025361534603685\n",
            "1.2.826.0.1.3680043.8.498.4059639245604012344063116002565222479\n",
            "1.2.826.0.1.3680043.8.498.30999563990658162923220299296533187900\n",
            "1.2.826.0.1.3680043.8.498.42421367003156360387417466913983981157\n",
            "1.2.826.0.1.3680043.8.498.4423178410656686799640992579117999813\n",
            "1.2.826.0.1.3680043.8.498.95190099584407197770181456877017137190\n",
            "1.2.826.0.1.3680043.8.498.23438418708454388252331689637271128811\n",
            "1.2.826.0.1.3680043.8.498.48343784677907555966559952124470861327\n",
            "1.2.826.0.1.3680043.8.498.4669858648111835955929839007866925050\n",
            "1.2.826.0.1.3680043.8.498.4200100563702734799200606047952583893\n",
            "1.2.826.0.1.3680043.8.498.74927643175624880219706682424408710071\n",
            "1.2.826.0.1.3680043.8.498.51710602262272768485127347859931412969\n",
            "1.2.826.0.1.3680043.8.498.37664446657889628820676677469350855219\n",
            "1.2.826.0.1.3680043.8.498.137591710654865076771657611598760274\n",
            "1.2.826.0.1.3680043.8.498.7945104372541245352264816140570721213\n",
            "1.2.826.0.1.3680043.8.498.32883331314995932146649424925360628525\n",
            "1.2.826.0.1.3680043.8.498.46453744191382548605160928647218873071\n",
            "1.2.826.0.1.3680043.8.498.72168918284268118126474596180091903739\n",
            "1.2.826.0.1.3680043.8.498.71404198424778931483634148102635376798\n",
            "1.2.826.0.1.3680043.8.498.27896407326644692249323501416687947225\n",
            "1.2.826.0.1.3680043.8.498.60212689962023258420657775515071001159\n",
            "1.2.826.0.1.3680043.8.498.36553782625863053851523226847284088671\n",
            "1.2.826.0.1.3680043.8.498.32258413103323083921758532639185494575\n",
            "1.2.826.0.1.3680043.8.498.1689238195384111704457442107843178555\n",
            "1.2.826.0.1.3680043.8.498.19437527786395994469986185292880324278\n",
            "1.2.826.0.1.3680043.8.498.75194347687455416165304309867077302948\n",
            "1.2.826.0.1.3680043.8.498.12115946798552841802388466377638692688\n",
            "1.2.826.0.1.3680043.8.498.41588660910225513096905963105573537888\n",
            "1.2.826.0.1.3680043.8.498.57158959717844595594513845899508661119\n",
            "1.2.826.0.1.3680043.8.498.86201267678967883905239037182812980018\n",
            "1.2.826.0.1.3680043.8.498.74603300383281049666255255653513399413\n",
            "1.2.826.0.1.3680043.8.498.65651712980062652555538441342830304876\n",
            "1.2.826.0.1.3680043.8.498.22879939183040514564776988552572349412\n",
            "1.2.826.0.1.3680043.8.498.86751883803681346976471899647170175956\n",
            "1.2.826.0.1.3680043.8.498.64277774214461792239235993215862696093\n",
            "1.2.826.0.1.3680043.8.498.58862168800179798720133772996037989705\n",
            "1.2.826.0.1.3680043.8.498.26962634790421721584856191107147671480\n",
            "1.2.826.0.1.3680043.8.498.74535550053407771081328775927352947666\n",
            "1.2.826.0.1.3680043.8.498.78640663014260902056906946421853077961\n",
            "1.2.826.0.1.3680043.8.498.11657373925013635228145753789625754043\n",
            "1.2.826.0.1.3680043.8.498.87282082419923170127737017746562965075\n",
            "1.2.826.0.1.3680043.8.498.2232315975000483733971016736435408866\n",
            "1.2.826.0.1.3680043.8.498.42708487385180530676136933996032639161\n",
            "1.2.826.0.1.3680043.8.498.2215871785292867000986447464193753890\n",
            "1.2.826.0.1.3680043.8.498.18963700657072423121367834667960353703\n",
            "1.2.826.0.1.3680043.8.498.82500738659892043922336495422714112789\n",
            "1.2.826.0.1.3680043.8.498.68339273856968995570850652634955034567\n",
            "1.2.826.0.1.3680043.8.498.6691146743834321759400313975923122666\n",
            "1.2.826.0.1.3680043.8.498.95300202639569825576140881597948953927\n",
            "1.2.826.0.1.3680043.8.498.56132065674372174009882913327987900527\n",
            "1.2.826.0.1.3680043.8.498.71057378656659633183302866645914317272\n",
            "1.2.826.0.1.3680043.8.498.21881992610177678893379567308717662277\n",
            "1.2.826.0.1.3680043.8.498.69715557650853296642198655928836392183\n",
            "1.2.826.0.1.3680043.8.498.12182408792143915981460143121584115736\n",
            "1.2.826.0.1.3680043.8.498.47930903254226182461164785081367741509\n",
            "1.2.826.0.1.3680043.8.498.7650645622640697125557264044265645726\n",
            "1.2.826.0.1.3680043.8.498.89828687667755387705643962552452616031\n",
            "1.2.826.0.1.3680043.8.498.640884061317085776166115201424283892\n",
            "1.2.826.0.1.3680043.8.498.70548215539689810485195099223619911090\n",
            "1.2.826.0.1.3680043.8.498.99558100262962585087833899305014495983\n",
            "1.2.826.0.1.3680043.8.498.58644494090575813312113339325742795820\n",
            "1.2.826.0.1.3680043.8.498.12936630251417900913449695453118991974\n",
            "1.2.826.0.1.3680043.8.498.53397324539279271738872005930604557550\n",
            "1.2.826.0.1.3680043.8.498.37974243148756769345652979862229883923\n",
            "1.2.826.0.1.3680043.8.498.55088397313125111265437406522413956233\n",
            "1.2.826.0.1.3680043.8.498.24559085365722345611350544981634461089\n",
            "1.2.826.0.1.3680043.8.498.10614469345369056678736800742953998717\n",
            "1.2.826.0.1.3680043.8.498.51035756272654751925367297675493428576\n",
            "1.2.826.0.1.3680043.8.498.79494782633381383142741484679736009153\n",
            "1.2.826.0.1.3680043.8.498.40032127509640082028421342647297852103\n",
            "1.2.826.0.1.3680043.8.498.94704827675347546409288723763925605067\n",
            "1.2.826.0.1.3680043.8.498.56576048424305133653803146282755870266\n",
            "1.2.826.0.1.3680043.8.498.78804541167137179045588158354514616239\n",
            "1.2.826.0.1.3680043.8.498.52929573454817736894684531327741684245\n",
            "1.2.826.0.1.3680043.8.498.72960255718292614560933004456100172627\n",
            "1.2.826.0.1.3680043.8.498.98656592122693343244246203364504787546\n",
            "1.2.826.0.1.3680043.8.498.61403538816238066609388652481973428505\n",
            "1.2.826.0.1.3680043.8.498.54789006412034428024213131140920359167\n",
            "1.2.826.0.1.3680043.8.498.10159415651408547929472048271672713296\n",
            "1.2.826.0.1.3680043.8.498.37398943969183871231756326786272811621\n",
            "1.2.826.0.1.3680043.8.498.38591169429072414669943191651247348344\n",
            "1.2.826.0.1.3680043.8.498.32686810629503522032645031512288678599\n",
            "1.2.826.0.1.3680043.8.498.10084832109095721245748588892676147407\n",
            "1.2.826.0.1.3680043.8.498.10520109933220420761656145871430563980\n",
            "1.2.826.0.1.3680043.8.498.90186098564854177606616393052434753539\n",
            "===============================================\n",
            "         DCM file saved into  /content/phantom_try7\n",
            "===============================================\n"
          ]
        }
      ]
    },
    {
      "cell_type": "code",
      "source": [
        "import shutil\n",
        "\n",
        "# Zip the folder\n",
        "shutil.make_archive(\"phantom_try7\", 'zip', \"phantom_try7\")\n",
        "from google.colab import files\n",
        "files.download(\"phantom_try7.zip\")"
      ],
      "metadata": {
        "colab": {
          "base_uri": "https://localhost:8080/",
          "height": 17
        },
        "id": "Mirr1wXVBJkm",
        "outputId": "4f31bff8-a414-41f4-f035-983954a4dc0e"
      },
      "execution_count": 7,
      "outputs": [
        {
          "output_type": "display_data",
          "data": {
            "text/plain": [
              "<IPython.core.display.Javascript object>"
            ],
            "application/javascript": [
              "\n",
              "    async function download(id, filename, size) {\n",
              "      if (!google.colab.kernel.accessAllowed) {\n",
              "        return;\n",
              "      }\n",
              "      const div = document.createElement('div');\n",
              "      const label = document.createElement('label');\n",
              "      label.textContent = `Downloading \"${filename}\": `;\n",
              "      div.appendChild(label);\n",
              "      const progress = document.createElement('progress');\n",
              "      progress.max = size;\n",
              "      div.appendChild(progress);\n",
              "      document.body.appendChild(div);\n",
              "\n",
              "      const buffers = [];\n",
              "      let downloaded = 0;\n",
              "\n",
              "      const channel = await google.colab.kernel.comms.open(id);\n",
              "      // Send a message to notify the kernel that we're ready.\n",
              "      channel.send({})\n",
              "\n",
              "      for await (const message of channel.messages) {\n",
              "        // Send a message to notify the kernel that we're ready.\n",
              "        channel.send({})\n",
              "        if (message.buffers) {\n",
              "          for (const buffer of message.buffers) {\n",
              "            buffers.push(buffer);\n",
              "            downloaded += buffer.byteLength;\n",
              "            progress.value = downloaded;\n",
              "          }\n",
              "        }\n",
              "      }\n",
              "      const blob = new Blob(buffers, {type: 'application/binary'});\n",
              "      const a = document.createElement('a');\n",
              "      a.href = window.URL.createObjectURL(blob);\n",
              "      a.download = filename;\n",
              "      div.appendChild(a);\n",
              "      a.click();\n",
              "      div.remove();\n",
              "    }\n",
              "  "
            ]
          },
          "metadata": {}
        },
        {
          "output_type": "display_data",
          "data": {
            "text/plain": [
              "<IPython.core.display.Javascript object>"
            ],
            "application/javascript": [
              "download(\"download_16098e5d-748c-46d7-9dcf-ab0624c182d1\", \"phantom_try7.zip\", 140255)"
            ]
          },
          "metadata": {}
        }
      ]
    }
  ]
}